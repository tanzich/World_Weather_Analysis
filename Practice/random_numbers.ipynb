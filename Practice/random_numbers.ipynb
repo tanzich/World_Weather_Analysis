{
 "cells": [
  {
   "cell_type": "code",
   "execution_count": 1,
   "id": "82127bcc-3c90-4d57-afc7-4a5695f4cd90",
   "metadata": {},
   "outputs": [],
   "source": [
    "# Import the random module.\n",
    "import random"
   ]
  },
  {
   "cell_type": "code",
   "execution_count": 2,
   "id": "e338deeb-b22c-4daf-8c6e-2d2a7f7b8166",
   "metadata": {},
   "outputs": [
    {
     "data": {
      "text/plain": [
       "0.7608983780026614"
      ]
     },
     "execution_count": 2,
     "metadata": {},
     "output_type": "execute_result"
    }
   ],
   "source": [
    "random.random()"
   ]
  },
  {
   "cell_type": "code",
   "execution_count": 7,
   "id": "8ea1e8ba-b3d7-4e77-9e4e-96669c98d5ad",
   "metadata": {},
   "outputs": [
    {
     "data": {
      "text/plain": [
       "-66"
      ]
     },
     "execution_count": 7,
     "metadata": {},
     "output_type": "execute_result"
    }
   ],
   "source": [
    "random.randint(-90, 89)"
   ]
  },
  {
   "cell_type": "code",
   "execution_count": 8,
   "id": "a6e82147-c2d9-4d39-b881-739b4024ece9",
   "metadata": {},
   "outputs": [],
   "source": [
    "x = 1\n",
    "latitudes = []\n",
    "while x < 11:\n",
    "    random_lat = random.randint(-90, 89) + random.random()\n",
    "    latitudes.append(random_lat)\n",
    "    x += 1"
   ]
  },
  {
   "cell_type": "code",
   "execution_count": 9,
   "id": "4680a141-a728-4d90-94d6-dfd1c21b50f7",
   "metadata": {},
   "outputs": [
    {
     "data": {
      "text/plain": [
       "[71.81292062428011,\n",
       " -34.672860218554305,\n",
       " -78.83819804251414,\n",
       " -64.16738980331122,\n",
       " 70.82337005913432,\n",
       " -55.863997315215734,\n",
       " 6.19166554813061,\n",
       " -41.12568917523753,\n",
       " 58.40812295697762,\n",
       " 81.01648106785039]"
      ]
     },
     "execution_count": 9,
     "metadata": {},
     "output_type": "execute_result"
    }
   ],
   "source": [
    "latitudes"
   ]
  },
  {
   "cell_type": "code",
   "execution_count": 10,
   "id": "41d5d5e8-1102-4fbb-bb65-51daf2294aeb",
   "metadata": {},
   "outputs": [
    {
     "data": {
      "text/plain": [
       "41"
      ]
     },
     "execution_count": 10,
     "metadata": {},
     "output_type": "execute_result"
    }
   ],
   "source": [
    "random.randrange(-90, 90, step=1)"
   ]
  },
  {
   "cell_type": "code",
   "execution_count": 11,
   "id": "ca6d898e-e329-47ad-828a-c80da6d7df75",
   "metadata": {},
   "outputs": [
    {
     "data": {
      "text/plain": [
       "60.20339179230359"
      ]
     },
     "execution_count": 11,
     "metadata": {},
     "output_type": "execute_result"
    }
   ],
   "source": [
    "random.uniform(-90, 90)"
   ]
  },
  {
   "cell_type": "code",
   "execution_count": 12,
   "id": "f757342f-38fb-4aa8-842b-e3595e206e3d",
   "metadata": {},
   "outputs": [],
   "source": [
    "# Import the NumPy module.\n",
    "import numpy as np"
   ]
  },
  {
   "cell_type": "code",
   "execution_count": 13,
   "id": "dadefde9-1f8d-4062-a930-9fb068ca35d2",
   "metadata": {
    "collapsed": true,
    "jupyter": {
     "outputs_hidden": true
    },
    "tags": []
   },
   "outputs": [
    {
     "data": {
      "text/plain": [
       "array([ 38.44267907, -52.77094977, -75.4306396 , -83.36029915,\n",
       "        53.06104044, -22.63998391, -19.33331932,  35.72964865,\n",
       "         9.26122365,  10.45690524,  40.759984  ,  27.18772422,\n",
       "       -41.9568097 , -73.44931897, -30.57183575,   3.6243067 ,\n",
       "       -52.42236594,  75.39752207,  17.69389268,  52.72395043,\n",
       "       -68.88357667,  -4.65781609, -67.34926755,  39.55634827,\n",
       "        82.40377749,  82.13496419, -38.03495218,  58.72723862,\n",
       "        45.62810722, -69.00492611, -15.6894533 ,  61.49651323,\n",
       "       -43.70571148,  20.92420296,  76.40560635,  -9.30395152,\n",
       "        74.38758924, -56.28235355, -44.38210309, -89.93938857,\n",
       "       -30.77275538, -70.97827128,  36.18084339, -49.51777517,\n",
       "       -36.03205209,  81.89226702, -35.5095511 ,   6.03255419,\n",
       "       -75.80259275,  39.93204065])"
      ]
     },
     "execution_count": 13,
     "metadata": {},
     "output_type": "execute_result"
    }
   ],
   "source": [
    "np.random.uniform(-90.000, 90.000, size=50)"
   ]
  },
  {
   "cell_type": "code",
   "execution_count": 14,
   "id": "37bdb951-5fd0-4001-9bb2-791bbb23b2e3",
   "metadata": {},
   "outputs": [],
   "source": [
    "# Import timeit.\n",
    "import timeit"
   ]
  },
  {
   "cell_type": "code",
   "execution_count": 15,
   "id": "934574b8-4a6c-4bc3-baeb-f2c2e4192519",
   "metadata": {},
   "outputs": [
    {
     "name": "stdout",
     "output_type": "stream",
     "text": [
      "18.3 µs ± 990 ns per loop (mean ± std. dev. of 7 runs, 10000 loops each)\n"
     ]
    }
   ],
   "source": [
    "%timeit np.random.uniform(-90.000, 90.000, size=1500)"
   ]
  },
  {
   "cell_type": "code",
   "execution_count": null,
   "id": "267101aa-1869-4a49-9e64-330d2d0a533a",
   "metadata": {},
   "outputs": [],
   "source": []
  }
 ],
 "metadata": {
  "kernelspec": {
   "display_name": "Python 3",
   "language": "python",
   "name": "python3"
  },
  "language_info": {
   "codemirror_mode": {
    "name": "ipython",
    "version": 3
   },
   "file_extension": ".py",
   "mimetype": "text/x-python",
   "name": "python",
   "nbconvert_exporter": "python",
   "pygments_lexer": "ipython3",
   "version": "3.8.8"
  }
 },
 "nbformat": 4,
 "nbformat_minor": 5
}
